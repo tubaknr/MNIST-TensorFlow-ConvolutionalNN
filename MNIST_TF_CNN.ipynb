{
  "nbformat": 4,
  "nbformat_minor": 0,
  "metadata": {
    "colab": {
      "name": "MNIST TF 05.2022.ipynb",
      "provenance": [],
      "collapsed_sections": []
    },
    "kernelspec": {
      "name": "python3",
      "display_name": "Python 3"
    },
    "language_info": {
      "name": "python"
    },
    "accelerator": "GPU"
  },
  "cells": [
    {
      "cell_type": "code",
      "execution_count": 1,
      "metadata": {
        "id": "DPbt3PHsztg3"
      },
      "outputs": [],
      "source": [
        "import pandas as pd\n",
        "import tensorflow as tf\n",
        "import numpy as np \n",
        "import matplotlib.pyplot as plt\n",
        "import seaborn as sns\n",
        "from tensorflow.keras.layers import Conv2D, Flatten, MaxPool2D, Dense\n",
        "from tensorflow.keras import Sequential \n",
        "from tensorflow.keras.activations import relu\n",
        "from tensorflow.keras.optimizers import Adam"
      ]
    },
    {
      "cell_type": "code",
      "source": [
        "train = pd.read_csv(\"/content/drive/MyDrive/Digit Recognizer/train.csv\")\n",
        "test = pd.read_csv(\"/content/drive/MyDrive/Digit Recognizer/test.csv\")"
      ],
      "metadata": {
        "id": "Xn2oF63Izx1-"
      },
      "execution_count": 2,
      "outputs": []
    },
    {
      "cell_type": "code",
      "source": [
        "from sklearn.model_selection import train_test_split\n",
        "X = train.drop(\"label\", axis=1)\n",
        "y = train[\"label\"]\n",
        "X_train, X_test, y_train, y_test = train_test_split(X, y, test_size=0.2)"
      ],
      "metadata": {
        "id": "u_5UvcIKz0QP"
      },
      "execution_count": 3,
      "outputs": []
    },
    {
      "cell_type": "markdown",
      "source": [
        "View Random Images to Become One with the Data"
      ],
      "metadata": {
        "id": "G-p1fJey54sU"
      }
    },
    {
      "cell_type": "code",
      "source": [
        "import random\n",
        "\n",
        "def view_random_image(X_train, y_train):\n",
        "  num = random.randint(0,33600)\n",
        "  img = X_train.iloc[num].to_numpy()\n",
        "  img = img.reshape((28,28))\n",
        "  plt.imshow(img)\n",
        "  plt.title(y_train[num])\n",
        "  plt.show()"
      ],
      "metadata": {
        "id": "rx8wBIw45j6D"
      },
      "execution_count": 4,
      "outputs": []
    },
    {
      "cell_type": "code",
      "source": [
        "view_random_image(X_train=X_train, y_train=y_train)"
      ],
      "metadata": {
        "colab": {
          "base_uri": "https://localhost:8080/",
          "height": 281
        },
        "id": "BdqSHr515lN2",
        "outputId": "6c1d222e-1e47-4bb6-b3e5-0c803fd28b00"
      },
      "execution_count": 5,
      "outputs": [
        {
          "output_type": "display_data",
          "data": {
            "text/plain": [
              "<Figure size 432x288 with 1 Axes>"
            ],
            "image/png": "[encoded data removed]"
          },
          "metadata": {
            "needs_background": "light"
          }
        }
      ]
    },
    {
      "cell_type": "markdown",
      "source": [
        "PreProcessing"
      ],
      "metadata": {
        "id": "BWMRS5Da58pR"
      }
    },
    {
      "cell_type": "code",
      "source": [
        "X_train = X_train/255.\n",
        "X_test = X_test/255."
      ],
      "metadata": {
        "id": "SiV_vCh9z-I7"
      },
      "execution_count": 6,
      "outputs": []
    },
    {
      "cell_type": "code",
      "source": [
        "X_train = X_train.values.reshape(-1,28,28,1)\n",
        "X_test = X_test.values.reshape(-1,28,28,1)"
      ],
      "metadata": {
        "id": "sM4xjsJi0AU9"
      },
      "execution_count": 7,
      "outputs": []
    },
    {
      "cell_type": "code",
      "source": [
        "y_train = tf.keras.utils.to_categorical(y_train, num_classes=10)\n",
        "y_test = tf.keras.utils.to_categorical(y_test, num_classes=10)"
      ],
      "metadata": {
        "id": "7pq2CQsI0B2O"
      },
      "execution_count": 8,
      "outputs": []
    },
    {
      "cell_type": "markdown",
      "source": [
        "Creating Model"
      ],
      "metadata": {
        "id": "Y5xy0fVF6E_8"
      }
    },
    {
      "cell_type": "code",
      "source": [
        "#same as TinyVGG\n",
        "mdl1 = Sequential([\n",
        "                  Conv2D(10, 3, activation=\"relu\", input_shape=(28,28,1)),\n",
        "                  Conv2D(10, 3, activation=\"relu\"),\n",
        "                  MaxPool2D(),\n",
        "                  Conv2D(10, 3, activation=\"relu\"),\n",
        "                  Conv2D(10, 3, activation=\"relu\"),\n",
        "                  MaxPool2D(),\n",
        "                  Flatten(),\n",
        "                  Dense(10, activation=\"softmax\")\n",
        "])\n",
        "\n",
        "mdl1.compile(loss=\"categorical_crossentropy\",\n",
        "             optimizer=Adam(),\n",
        "             metrics=[\"accuracy\"])"
      ],
      "metadata": {
        "id": "943EV3IZ0F4H"
      },
      "execution_count": 9,
      "outputs": []
    },
    {
      "cell_type": "code",
      "source": [
        "history1 = mdl1.fit(X_train, y_train,\n",
        "                    epochs=5,\n",
        "                    validation_data = (X_test, y_test))"
      ],
      "metadata": {
        "colab": {
          "base_uri": "https://localhost:8080/"
        },
        "id": "gt-f9qG40Ibz",
        "outputId": "ff130032-23e5-4b2a-cc17-5b38ef2af74a"
      },
      "execution_count": 10,
      "outputs": [
        {
          "output_type": "stream",
          "name": "stdout",
          "text": [
            "Epoch 1/5\n",
            "1050/1050 [==============================] - 35s 33ms/step - loss: 0.3372 - accuracy: 0.8914 - val_loss: 0.1490 - val_accuracy: 0.9558\n",
            "Epoch 2/5\n",
            "1050/1050 [==============================] - 33s 32ms/step - loss: 0.1223 - accuracy: 0.9628 - val_loss: 0.1103 - val_accuracy: 0.9649\n",
            "Epoch 3/5\n",
            "1050/1050 [==============================] - 35s 33ms/step - loss: 0.0898 - accuracy: 0.9722 - val_loss: 0.0918 - val_accuracy: 0.9715\n",
            "Epoch 4/5\n",
            "1050/1050 [==============================] - 33s 31ms/step - loss: 0.0726 - accuracy: 0.9773 - val_loss: 0.0836 - val_accuracy: 0.9724\n",
            "Epoch 5/5\n",
            "1050/1050 [==============================] - 32s 31ms/step - loss: 0.0621 - accuracy: 0.9812 - val_loss: 0.0601 - val_accuracy: 0.9810\n"
          ]
        }
      ]
    },
    {
      "cell_type": "markdown",
      "source": [
        "Evaluating the Model"
      ],
      "metadata": {
        "id": "Ky4jLS-V6IOV"
      }
    },
    {
      "cell_type": "code",
      "source": [
        "def plot_loss_acc(history):\n",
        "  loss = history.history[\"loss\"]\n",
        "  val_loss = history.history[\"val_loss\"]\n",
        "  epochs = range(len(history.history[\"loss\"]))\n",
        "  plt.plot(epochs, loss, label=\"train_loss\")\n",
        "  plt.plot(epochs, val_loss, label=\"val_loss\")\n",
        "  plt.legend()\n",
        "\n",
        "  plt.figure()\n",
        "  plt.plot(epochs, history.history[\"accuracy\"], label=\"train_acc\")\n",
        "  plt.plot(epochs, history.history[\"val_accuracy\"], label=\"val_acc\")\n",
        "  plt.legend();"
      ],
      "metadata": {
        "id": "hOuLeS7F0JZr"
      },
      "execution_count": 11,
      "outputs": []
    },
    {
      "cell_type": "code",
      "source": [
        "plot_loss_acc(history1)"
      ],
      "metadata": {
        "colab": {
          "base_uri": "https://localhost:8080/",
          "height": 517
        },
        "id": "Y2nvRMVa0MXN",
        "outputId": "c0d2f7ff-8cb0-49c7-8db9-aee88a44a379"
      },
      "execution_count": 12,
      "outputs": [
        {
          "output_type": "display_data",
          "data": {
            "text/plain": [
              "<Figure size 432x288 with 1 Axes>"
            ],
            "image/png": "[encoded data removed]"
          },
          "metadata": {
            "needs_background": "light"
          }
        },
        {
          "output_type": "display_data",
          "data": {
            "text/plain": [
              "<Figure size 432x288 with 1 Axes>"
            ],
            "image/png": "[encoded data removed]"
          },
          "metadata": {
            "needs_background": "light"
          }
        }
      ]
    },
    {
      "cell_type": "markdown",
      "source": [
        "TinyVGG architecture is very enough. **%98.10**"
      ],
      "metadata": {
        "id": "QB-OOn_U0OtY"
      }
    }
  ]
}